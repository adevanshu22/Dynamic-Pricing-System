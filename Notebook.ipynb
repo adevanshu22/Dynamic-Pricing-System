{
 "cells": [
  {
   "cell_type": "code",
   "execution_count": 2,
   "metadata": {},
   "outputs": [],
   "source": [
    "import numpy as np\n",
    "import pandas as pd\n",
    "import random\n",
    "import math"
   ]
  },
  {
   "cell_type": "markdown",
   "metadata": {},
   "source": [
    "The booking starts 30 days ahead of jouney date. The minimum and maximum price of the seat is set as below. There are total 250 seats available to be filled. We are simulating for 50 different journeys. Similarly we decide beforehand how much slots wastage we want to limit. And number of days before the journey that we want to optimize."
   ]
  },
  {
   "cell_type": "code",
   "execution_count": 3,
   "metadata": {},
   "outputs": [],
   "source": [
    "days = 30\n",
    "min_price = 4000\n",
    "max_price = 14000\n",
    "total_slots = 250\n",
    "journey = 50\n",
    "train_val_prop = 0.75\n",
    "lst_days = list(range(1,days+1))\n",
    "wastage_pct_min_range = 15\n",
    "wastage_pct_max_range = 20\n",
    "emptiness_threshold = 0.02\n",
    "optimisation_day_bfr_jouney = 10"
   ]
  },
  {
   "cell_type": "markdown",
   "metadata": {},
   "source": [
    "The below code block simulates the data for 50 different journeys. The number of slots filled on a day is directly proportional to the day of journey, as more number of people will book the tickets as the journey gets nearer. Also the booking is inversely proportional of the price as people tend not to book it due to high price. After calculating weights and creating slots according to it, we then append all the journeys into a single data frame. "
   ]
  },
  {
   "cell_type": "code",
   "execution_count": 4,
   "metadata": {},
   "outputs": [],
   "source": [
    "lst_df = []\n",
    "for j in range(journey):\n",
    "    lst_price = []\n",
    "    prev_price = min_price\n",
    "    for i in range(days):\n",
    "        cur_price = min(prev_price + random.randint(0, 500), max_price)\n",
    "        prev_price = cur_price\n",
    "        lst_price.append(cur_price)\n",
    "        \n",
    "    slots_filled = round((1 - random.randint(wastage_pct_min_range, wastage_pct_max_range) / 100)*total_slots, 0)\n",
    "    lst_slots = []\n",
    "    weights = []\n",
    "    \n",
    "    for time_, p in enumerate(lst_price):\n",
    "        weights.append(((time_ + 1)*random.uniform(1, 1.2))/math.pow(p, 5))\n",
    "    \n",
    "    msum = sum(weights)\n",
    "    weights = [w/msum for w in weights]\n",
    "    \n",
    "    for w in weights:\n",
    "        lst_slots.append(round(w*slots_filled))\n",
    "    \n",
    "    lst_df.append(pd.DataFrame({\"journey_id\" : [j + 1]*days, \"day\" : lst_days, \"price\" : lst_price, \"slots\" : lst_slots}))\n",
    "    \n",
    "df = pd.concat(lst_df).reset_index()"
   ]
  },
  {
   "cell_type": "code",
   "execution_count": 5,
   "metadata": {},
   "outputs": [
    {
     "data": {
      "text/html": [
       "<div>\n",
       "<style scoped>\n",
       "    .dataframe tbody tr th:only-of-type {\n",
       "        vertical-align: middle;\n",
       "    }\n",
       "\n",
       "    .dataframe tbody tr th {\n",
       "        vertical-align: top;\n",
       "    }\n",
       "\n",
       "    .dataframe thead th {\n",
       "        text-align: right;\n",
       "    }\n",
       "</style>\n",
       "<table border=\"1\" class=\"dataframe\">\n",
       "  <thead>\n",
       "    <tr style=\"text-align: right;\">\n",
       "      <th></th>\n",
       "      <th>index</th>\n",
       "      <th>journey_id</th>\n",
       "      <th>day</th>\n",
       "      <th>price</th>\n",
       "      <th>slots</th>\n",
       "    </tr>\n",
       "  </thead>\n",
       "  <tbody>\n",
       "    <tr>\n",
       "      <th>0</th>\n",
       "      <td>0</td>\n",
       "      <td>1</td>\n",
       "      <td>1</td>\n",
       "      <td>4448</td>\n",
       "      <td>6</td>\n",
       "    </tr>\n",
       "    <tr>\n",
       "      <th>1</th>\n",
       "      <td>1</td>\n",
       "      <td>1</td>\n",
       "      <td>2</td>\n",
       "      <td>4496</td>\n",
       "      <td>10</td>\n",
       "    </tr>\n",
       "    <tr>\n",
       "      <th>2</th>\n",
       "      <td>2</td>\n",
       "      <td>1</td>\n",
       "      <td>3</td>\n",
       "      <td>4497</td>\n",
       "      <td>17</td>\n",
       "    </tr>\n",
       "    <tr>\n",
       "      <th>3</th>\n",
       "      <td>3</td>\n",
       "      <td>1</td>\n",
       "      <td>4</td>\n",
       "      <td>4973</td>\n",
       "      <td>12</td>\n",
       "    </tr>\n",
       "    <tr>\n",
       "      <th>4</th>\n",
       "      <td>4</td>\n",
       "      <td>1</td>\n",
       "      <td>5</td>\n",
       "      <td>5080</td>\n",
       "      <td>15</td>\n",
       "    </tr>\n",
       "  </tbody>\n",
       "</table>\n",
       "</div>"
      ],
      "text/plain": [
       "   index  journey_id  day  price  slots\n",
       "0      0           1    1   4448      6\n",
       "1      1           1    2   4496     10\n",
       "2      2           1    3   4497     17\n",
       "3      3           1    4   4973     12\n",
       "4      4           1    5   5080     15"
      ]
     },
     "execution_count": 5,
     "metadata": {},
     "output_type": "execute_result"
    }
   ],
   "source": [
    "df.head()"
   ]
  },
  {
   "cell_type": "code",
   "execution_count": 6,
   "metadata": {},
   "outputs": [
    {
     "data": {
      "text/html": [
       "<div>\n",
       "<style scoped>\n",
       "    .dataframe tbody tr th:only-of-type {\n",
       "        vertical-align: middle;\n",
       "    }\n",
       "\n",
       "    .dataframe tbody tr th {\n",
       "        vertical-align: top;\n",
       "    }\n",
       "\n",
       "    .dataframe thead th {\n",
       "        text-align: right;\n",
       "    }\n",
       "</style>\n",
       "<table border=\"1\" class=\"dataframe\">\n",
       "  <thead>\n",
       "    <tr style=\"text-align: right;\">\n",
       "      <th></th>\n",
       "      <th>index</th>\n",
       "      <th>journey_id</th>\n",
       "      <th>day</th>\n",
       "      <th>price</th>\n",
       "      <th>slots</th>\n",
       "    </tr>\n",
       "  </thead>\n",
       "  <tbody>\n",
       "    <tr>\n",
       "      <th>0</th>\n",
       "      <td>0</td>\n",
       "      <td>1</td>\n",
       "      <td>1</td>\n",
       "      <td>4448</td>\n",
       "      <td>6</td>\n",
       "    </tr>\n",
       "    <tr>\n",
       "      <th>1</th>\n",
       "      <td>1</td>\n",
       "      <td>1</td>\n",
       "      <td>2</td>\n",
       "      <td>4496</td>\n",
       "      <td>10</td>\n",
       "    </tr>\n",
       "    <tr>\n",
       "      <th>2</th>\n",
       "      <td>2</td>\n",
       "      <td>1</td>\n",
       "      <td>3</td>\n",
       "      <td>4497</td>\n",
       "      <td>17</td>\n",
       "    </tr>\n",
       "    <tr>\n",
       "      <th>3</th>\n",
       "      <td>3</td>\n",
       "      <td>1</td>\n",
       "      <td>4</td>\n",
       "      <td>4973</td>\n",
       "      <td>12</td>\n",
       "    </tr>\n",
       "    <tr>\n",
       "      <th>4</th>\n",
       "      <td>4</td>\n",
       "      <td>1</td>\n",
       "      <td>5</td>\n",
       "      <td>5080</td>\n",
       "      <td>15</td>\n",
       "    </tr>\n",
       "    <tr>\n",
       "      <th>...</th>\n",
       "      <td>...</td>\n",
       "      <td>...</td>\n",
       "      <td>...</td>\n",
       "      <td>...</td>\n",
       "      <td>...</td>\n",
       "    </tr>\n",
       "    <tr>\n",
       "      <th>1135</th>\n",
       "      <td>25</td>\n",
       "      <td>38</td>\n",
       "      <td>26</td>\n",
       "      <td>9407</td>\n",
       "      <td>4</td>\n",
       "    </tr>\n",
       "    <tr>\n",
       "      <th>1136</th>\n",
       "      <td>26</td>\n",
       "      <td>38</td>\n",
       "      <td>27</td>\n",
       "      <td>9763</td>\n",
       "      <td>3</td>\n",
       "    </tr>\n",
       "    <tr>\n",
       "      <th>1137</th>\n",
       "      <td>27</td>\n",
       "      <td>38</td>\n",
       "      <td>28</td>\n",
       "      <td>10167</td>\n",
       "      <td>2</td>\n",
       "    </tr>\n",
       "    <tr>\n",
       "      <th>1138</th>\n",
       "      <td>28</td>\n",
       "      <td>38</td>\n",
       "      <td>29</td>\n",
       "      <td>10663</td>\n",
       "      <td>2</td>\n",
       "    </tr>\n",
       "    <tr>\n",
       "      <th>1139</th>\n",
       "      <td>29</td>\n",
       "      <td>38</td>\n",
       "      <td>30</td>\n",
       "      <td>10914</td>\n",
       "      <td>2</td>\n",
       "    </tr>\n",
       "  </tbody>\n",
       "</table>\n",
       "<p>1140 rows × 5 columns</p>\n",
       "</div>"
      ],
      "text/plain": [
       "      index  journey_id  day  price  slots\n",
       "0         0           1    1   4448      6\n",
       "1         1           1    2   4496     10\n",
       "2         2           1    3   4497     17\n",
       "3         3           1    4   4973     12\n",
       "4         4           1    5   5080     15\n",
       "...     ...         ...  ...    ...    ...\n",
       "1135     25          38   26   9407      4\n",
       "1136     26          38   27   9763      3\n",
       "1137     27          38   28  10167      2\n",
       "1138     28          38   29  10663      2\n",
       "1139     29          38   30  10914      2\n",
       "\n",
       "[1140 rows x 5 columns]"
      ]
     },
     "execution_count": 6,
     "metadata": {},
     "output_type": "execute_result"
    }
   ],
   "source": [
    "df_train = df[df[\"journey_id\"] <= round(journey*train_val_prop)]\n",
    "df_train"
   ]
  },
  {
   "cell_type": "code",
   "execution_count": 7,
   "metadata": {},
   "outputs": [
    {
     "data": {
      "text/html": [
       "<div>\n",
       "<style scoped>\n",
       "    .dataframe tbody tr th:only-of-type {\n",
       "        vertical-align: middle;\n",
       "    }\n",
       "\n",
       "    .dataframe tbody tr th {\n",
       "        vertical-align: top;\n",
       "    }\n",
       "\n",
       "    .dataframe thead th {\n",
       "        text-align: right;\n",
       "    }\n",
       "</style>\n",
       "<table border=\"1\" class=\"dataframe\">\n",
       "  <thead>\n",
       "    <tr style=\"text-align: right;\">\n",
       "      <th></th>\n",
       "      <th>index</th>\n",
       "      <th>journey_id</th>\n",
       "      <th>day</th>\n",
       "      <th>price</th>\n",
       "      <th>slots</th>\n",
       "    </tr>\n",
       "  </thead>\n",
       "  <tbody>\n",
       "    <tr>\n",
       "      <th>1140</th>\n",
       "      <td>0</td>\n",
       "      <td>39</td>\n",
       "      <td>1</td>\n",
       "      <td>4479</td>\n",
       "      <td>9</td>\n",
       "    </tr>\n",
       "    <tr>\n",
       "      <th>1141</th>\n",
       "      <td>1</td>\n",
       "      <td>39</td>\n",
       "      <td>2</td>\n",
       "      <td>4706</td>\n",
       "      <td>12</td>\n",
       "    </tr>\n",
       "    <tr>\n",
       "      <th>1142</th>\n",
       "      <td>2</td>\n",
       "      <td>39</td>\n",
       "      <td>3</td>\n",
       "      <td>4721</td>\n",
       "      <td>19</td>\n",
       "    </tr>\n",
       "    <tr>\n",
       "      <th>1143</th>\n",
       "      <td>3</td>\n",
       "      <td>39</td>\n",
       "      <td>4</td>\n",
       "      <td>5155</td>\n",
       "      <td>17</td>\n",
       "    </tr>\n",
       "    <tr>\n",
       "      <th>1144</th>\n",
       "      <td>4</td>\n",
       "      <td>39</td>\n",
       "      <td>5</td>\n",
       "      <td>5490</td>\n",
       "      <td>16</td>\n",
       "    </tr>\n",
       "    <tr>\n",
       "      <th>...</th>\n",
       "      <td>...</td>\n",
       "      <td>...</td>\n",
       "      <td>...</td>\n",
       "      <td>...</td>\n",
       "      <td>...</td>\n",
       "    </tr>\n",
       "    <tr>\n",
       "      <th>1495</th>\n",
       "      <td>25</td>\n",
       "      <td>50</td>\n",
       "      <td>26</td>\n",
       "      <td>10846</td>\n",
       "      <td>2</td>\n",
       "    </tr>\n",
       "    <tr>\n",
       "      <th>1496</th>\n",
       "      <td>26</td>\n",
       "      <td>50</td>\n",
       "      <td>27</td>\n",
       "      <td>11113</td>\n",
       "      <td>2</td>\n",
       "    </tr>\n",
       "    <tr>\n",
       "      <th>1497</th>\n",
       "      <td>27</td>\n",
       "      <td>50</td>\n",
       "      <td>28</td>\n",
       "      <td>11305</td>\n",
       "      <td>2</td>\n",
       "    </tr>\n",
       "    <tr>\n",
       "      <th>1498</th>\n",
       "      <td>28</td>\n",
       "      <td>50</td>\n",
       "      <td>29</td>\n",
       "      <td>11536</td>\n",
       "      <td>2</td>\n",
       "    </tr>\n",
       "    <tr>\n",
       "      <th>1499</th>\n",
       "      <td>29</td>\n",
       "      <td>50</td>\n",
       "      <td>30</td>\n",
       "      <td>11974</td>\n",
       "      <td>1</td>\n",
       "    </tr>\n",
       "  </tbody>\n",
       "</table>\n",
       "<p>360 rows × 5 columns</p>\n",
       "</div>"
      ],
      "text/plain": [
       "      index  journey_id  day  price  slots\n",
       "1140      0          39    1   4479      9\n",
       "1141      1          39    2   4706     12\n",
       "1142      2          39    3   4721     19\n",
       "1143      3          39    4   5155     17\n",
       "1144      4          39    5   5490     16\n",
       "...     ...         ...  ...    ...    ...\n",
       "1495     25          50   26  10846      2\n",
       "1496     26          50   27  11113      2\n",
       "1497     27          50   28  11305      2\n",
       "1498     28          50   29  11536      2\n",
       "1499     29          50   30  11974      1\n",
       "\n",
       "[360 rows x 5 columns]"
      ]
     },
     "execution_count": 7,
     "metadata": {},
     "output_type": "execute_result"
    }
   ],
   "source": [
    "df_test = df[df[\"journey_id\"] > round(journey*train_val_prop)]\n",
    "df_test"
   ]
  },
  {
   "cell_type": "markdown",
   "metadata": {},
   "source": [
    "Now we train the model. We prdict the slots filled on a particular day based on the day and price."
   ]
  },
  {
   "cell_type": "code",
   "execution_count": 8,
   "metadata": {},
   "outputs": [
    {
     "data": {
      "text/plain": [
       "XGBRegressor(base_score=0.5, booster='gbtree', colsample_bylevel=1,\n",
       "             colsample_bynode=1, colsample_bytree=1, enable_categorical=False,\n",
       "             gamma=0, gpu_id=-1, importance_type=None,\n",
       "             interaction_constraints='', learning_rate=0.300000012,\n",
       "             max_delta_step=0, max_depth=6, min_child_weight=1, missing=nan,\n",
       "             monotone_constraints='()', n_estimators=100, n_jobs=4,\n",
       "             num_parallel_tree=1, predictor='auto', random_state=0, reg_alpha=0,\n",
       "             reg_lambda=1, scale_pos_weight=1, subsample=1, tree_method='exact',\n",
       "             validate_parameters=1, verbosity=None)"
      ]
     },
     "execution_count": 8,
     "metadata": {},
     "output_type": "execute_result"
    }
   ],
   "source": [
    "from xgboost import XGBRegressor\n",
    "model = XGBRegressor()\n",
    "model.fit(df_train[[\"price\", \"day\"]], df_train[\"slots\"])"
   ]
  },
  {
   "cell_type": "code",
   "execution_count": 9,
   "metadata": {},
   "outputs": [
    {
     "name": "stdout",
     "output_type": "stream",
     "text": [
      "train mae 0.36746902967754164\n",
      "train rmse 0.5137653659216114\n"
     ]
    }
   ],
   "source": [
    "from sklearn.metrics import mean_absolute_error, mean_squared_error\n",
    "mae = mean_absolute_error(df_train[\"slots\"], model.predict(df_train[[\"price\", \"day\"]]))\n",
    "print(\"train mae\", mae)\n",
    "rmse = np.sqrt(mean_squared_error(df_train[\"slots\"], model.predict(df_train[[\"price\", \"day\"]])))\n",
    "print(\"train rmse\", rmse)"
   ]
  },
  {
   "cell_type": "code",
   "execution_count": 10,
   "metadata": {},
   "outputs": [
    {
     "name": "stdout",
     "output_type": "stream",
     "text": [
      "test mae 1.0722295390235053\n",
      "test rmse 1.644486788802486\n"
     ]
    }
   ],
   "source": [
    "from sklearn.metrics import mean_absolute_error, mean_squared_error\n",
    "mae = mean_absolute_error(df_test[\"slots\"], model.predict(df_test[[\"price\", \"day\"]]))\n",
    "print(\"test mae\", mae)\n",
    "rmse = np.sqrt(mean_squared_error(df_test[\"slots\"], model.predict(df_test[[\"price\", \"day\"]])))\n",
    "print(\"test rmse\", rmse)"
   ]
  },
  {
   "cell_type": "markdown",
   "metadata": {},
   "source": [
    "We store the predictions in a dictionary for faster lookup, to be used in the optimization function"
   ]
  },
  {
   "cell_type": "code",
   "execution_count": 12,
   "metadata": {},
   "outputs": [],
   "source": [
    "mp = {}\n",
    "lst = []\n",
    "\n",
    "for p in range(min_price, max_price+1):\n",
    "    for d in range(days - optimisation_day_bfr_jouney, days+1):\n",
    "        lst.append([p, d])\n",
    "\n",
    "pred = model.predict(np.array(lst))\n",
    "\n",
    "for i in range(len(lst)):\n",
    "    mp[lst[i][0], lst[i][1]] = int(pred[i])\n"
   ]
  },
  {
   "cell_type": "markdown",
   "metadata": {},
   "source": [
    "The below m_feasible function checks whether the price and the slots predicted are feasible or not. This is being used in the optimization layer"
   ]
  },
  {
   "cell_type": "code",
   "execution_count": 13,
   "metadata": {},
   "outputs": [],
   "source": [
    "def m_feasible(price_points, available_slots, emptiness_threshold):\n",
    "    slots_predicted = [mp[p] for p in price_points]\n",
    "    total_slots_predicted = sum(slots_predicted)\n",
    "    if (total_slots_predicted <= available_slots) and (total_slots * emptiness_threshold <= available_slots - total_slots_predicted):\n",
    "        return True\n",
    "    return False"
   ]
  },
  {
   "cell_type": "markdown",
   "metadata": {},
   "source": [
    "The m_revenue function will take in the list of prices and calculates the revenue generated in the optimization days using the slots predicted"
   ]
  },
  {
   "cell_type": "code",
   "execution_count": 14,
   "metadata": {},
   "outputs": [],
   "source": [
    "def m_revenue(price_points):\n",
    "    slots_predicted = [mp[p] for p in price_points]\n",
    "    revenue = 0\n",
    "    for i in range(len(price_points)):\n",
    "        revenue = revenue + price_points[i][0] * slots_predicted[i]\n",
    "    return revenue, slots_predicted\n"
   ]
  },
  {
   "cell_type": "markdown",
   "metadata": {},
   "source": [
    "The below optimization function kicks off some specific days before the date of journey. It creates a list of price points and using the model trained before predicts the price for it. We iterate 50000 times to find the best list of feasible price points which can give the highest revenue for us"
   ]
  },
  {
   "cell_type": "code",
   "execution_count": 18,
   "metadata": {},
   "outputs": [],
   "source": [
    "def optimize(df, journey_id):\n",
    "    df_tmp = df[(df[\"journey_id\"] == journey_id) & (df[\"day\"] > (days - optimisation_day_bfr_jouney))].reset_index(drop=True)\n",
    "    \n",
    "    slots_filled = df[(df[\"journey_id\"] == journey_id) & (df[\"day\"] < days - optimisation_day_bfr_jouney)][\"slots\"].sum()\n",
    "    \n",
    "    available_slots = total_slots - slots_filled\n",
    "    \n",
    "    times = 50000\n",
    "    ans = 0\n",
    "    solution = []\n",
    "    for j in range(times):\n",
    "        price_points = []\n",
    "        prev_price = min_price\n",
    "        for i in range(optimisation_day_bfr_jouney):\n",
    "            cur_price = random.randint(prev_price, int(prev_price * 1.15))\n",
    "            if cur_price > max_price:\n",
    "                break\n",
    "            prev_price = cur_price\n",
    "            price_points.append((cur_price, (days + i + 1 - optimisation_day_bfr_jouney)))\n",
    "        if m_feasible(price_points, available_slots, emptiness_threshold):\n",
    "            if m_revenue(price_points)[0] > ans:\n",
    "                ans, slots = m_revenue(price_points)\n",
    "                solution = [p[0] for p in price_points]\n",
    "                \n",
    "    df_tmp[\"proposed_price\"] = solution\n",
    "    df_tmp[\"forecasted_slots\"] = slots\n",
    "    \n",
    "    orig_rev = (df_tmp[\"price\"] * df_tmp[\"slots\"]).sum()\n",
    "    proposed_rev = (df_tmp[\"proposed_price\"] * df_tmp[\"forecasted_slots\"]).sum()\n",
    "    \n",
    "    rev_gain = proposed_rev - orig_rev\n",
    "    rev_gain_pct = round((rev_gain / orig_rev)*100, 2)\n",
    "    \n",
    "    slots_gain = df_tmp[\"forecasted_slots\"].sum() - df_tmp[\"slots\"].sum()\n",
    "    slots_gain_pct = round(slots_gain / df_tmp[\"slots\"].sum() * 100, 2)\n",
    "    \n",
    "    print(f\"\"\"\n",
    "        Previous Revenue: {orig_rev}\n",
    "        New Revenue: {proposed_rev}\n",
    "        Revenue Gain: {rev_gain}\n",
    "        Revenue Gain %: {rev_gain_pct}\n",
    "        Available Slots: {available_slots}\n",
    "        Previously filled: {df_tmp[\"slots\"].sum()}\n",
    "        Filled after dynamic Pricing: {df_tmp[\"forecasted_slots\"].sum()}\n",
    "        Slots gain: {slots_gain}\n",
    "        Slots gain %: {slots_gain_pct}\n",
    "    \"\"\"\"\")\n",
    "                "
   ]
  },
  {
   "cell_type": "code",
   "execution_count": 16,
   "metadata": {},
   "outputs": [
    {
     "name": "stdout",
     "output_type": "stream",
     "text": [
      "\n",
      "        Previous Revenue: 231262\n",
      "        New Revenue: 406011\n",
      "        Revenue Gain: 174749\n",
      "        Revenue Gain %: 75.56\n",
      "        Available Slots: 68\n",
      "        Previously filled: 23\n",
      "        Filled after dynamic Pricing: 63\n",
      "        Slots gain: 40\n",
      "        Slots gain %: 173.91\n",
      "    \n"
     ]
    }
   ],
   "source": [
    "optimize(df, 1)"
   ]
  },
  {
   "cell_type": "code",
   "execution_count": 17,
   "metadata": {},
   "outputs": [
    {
     "name": "stdout",
     "output_type": "stream",
     "text": [
      "\n",
      "        Previous Revenue: 330978\n",
      "        New Revenue: 506558\n",
      "        Revenue Gain: 175580\n",
      "        Revenue Gain %: 53.05\n",
      "        Available Slots: 90\n",
      "        Previously filled: 40\n",
      "        Filled after dynamic Pricing: 85\n",
      "        Slots gain: 45\n",
      "        Slots gain %: 112.5\n",
      "    \n"
     ]
    }
   ],
   "source": [
    "optimize(df, 2)"
   ]
  },
  {
   "cell_type": "code",
   "execution_count": null,
   "metadata": {},
   "outputs": [],
   "source": []
  }
 ],
 "metadata": {
  "kernelspec": {
   "display_name": "Python 3",
   "language": "python",
   "name": "python3"
  },
  "language_info": {
   "codemirror_mode": {
    "name": "ipython",
    "version": 3
   },
   "file_extension": ".py",
   "mimetype": "text/x-python",
   "name": "python",
   "nbconvert_exporter": "python",
   "pygments_lexer": "ipython3",
   "version": "3.8.5"
  }
 },
 "nbformat": 4,
 "nbformat_minor": 4
}
